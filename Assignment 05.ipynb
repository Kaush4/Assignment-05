{
 "cells": [
  {
   "cell_type": "code",
   "execution_count": null,
   "id": "3a5c7a72",
   "metadata": {},
   "outputs": [],
   "source": [
    "# Write a Python class to implement pow(x, n)\n",
    "# Explanation:\n",
    "# Use should be able to find the nth power of the x.(i.e x*x*x*x...n times)\n",
    "# You must implement it using Class\n",
    "\n",
    "# Sample Input:\n",
    "# x: 10\n",
    "# n: 2\n",
    "# Sample Output:\n",
    "# 100"
   ]
  },
  {
   "cell_type": "code",
   "execution_count": 20,
   "id": "c0f3840a",
   "metadata": {},
   "outputs": [
    {
     "name": "stdout",
     "output_type": "stream",
     "text": [
      "Output is 16\n",
      "Output is 243\n",
      "Output is 1\n",
      "Output is 100\n",
      "Output is 0.0625\n"
     ]
    }
   ],
   "source": [
    "# Answer\n",
    "class cal_power:\n",
    "    def pow(self, a, n):\n",
    "        if n==0:\n",
    "            return 1\n",
    "        if a==1 or a==0 or n==1:\n",
    "            return a \n",
    "        if a==-1:\n",
    "            if n%2 ==0:\n",
    "                return 1\n",
    "            else:\n",
    "                return -1\n",
    "        if n<0:\n",
    "            return 1/self.pow(a,-n)\n",
    "        val = self.pow(a,n//2)\n",
    "        if n%2 ==0:\n",
    "            return val*val\n",
    "        return val*val*a\n",
    "x=cal_power()\n",
    "print(\"Output is\",x.pow(2,4))\n",
    "print(\"Output is\",x.pow(3,5))\n",
    "print(\"Output is\",x.pow(100,0))\n",
    "print(\"Output is\",x.pow(10,2))\n",
    "print(\"Output is\",x.pow(2,-4))"
   ]
  },
  {
   "cell_type": "code",
   "execution_count": 19,
   "id": "ed4d0333",
   "metadata": {},
   "outputs": [
    {
     "name": "stdout",
     "output_type": "stream",
     "text": [
      "Enter the base number: 10\n",
      "Enter the power for base number: 2\n",
      "Output is 100\n"
     ]
    }
   ],
   "source": [
    "# if we want user must give input for a and n\n",
    "class cal_power:\n",
    "    def pow(self, a, n):\n",
    "        if n==0:\n",
    "            return 1\n",
    "        if a==1 or a==0 or n==1:\n",
    "            return a \n",
    "        if a==-1:\n",
    "            if n%2 ==0:\n",
    "                return 1\n",
    "            else:\n",
    "                return -1\n",
    "        if n<0:\n",
    "            return 1/self.pow(a,-n)\n",
    "        val = self.pow(a,n//2)\n",
    "        if n%2 ==0:\n",
    "            return val*val\n",
    "        return val*val*a\n",
    "a= int(input(\"Enter the base number: \"))\n",
    "n= int(input(\"Enter the power for base number: \"))\n",
    "x=cal_power()\n",
    "print(\"Output is\",x.pow(a,n))"
   ]
  }
 ],
 "metadata": {
  "kernelspec": {
   "display_name": "Python 3 (ipykernel)",
   "language": "python",
   "name": "python3"
  },
  "language_info": {
   "codemirror_mode": {
    "name": "ipython",
    "version": 3
   },
   "file_extension": ".py",
   "mimetype": "text/x-python",
   "name": "python",
   "nbconvert_exporter": "python",
   "pygments_lexer": "ipython3",
   "version": "3.9.12"
  }
 },
 "nbformat": 4,
 "nbformat_minor": 5
}
